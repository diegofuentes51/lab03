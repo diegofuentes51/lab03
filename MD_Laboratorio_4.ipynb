{
 "cells": [
  {
   "cell_type": "code",
   "execution_count": 1,
   "id": "678778b2-f823-46c0-8172-f461209e6d21",
   "metadata": {},
   "outputs": [],
   "source": [
    "import pandas as pd\n",
    "import numpy as np"
   ]
  },
  {
   "cell_type": "markdown",
   "id": "2fcdb71f-14b5-47f2-8d25-05425974cbcb",
   "metadata": {},
   "source": [
    "PARTE A"
   ]
  },
  {
   "cell_type": "code",
   "execution_count": 2,
   "id": "cb899501-4848-4def-8988-f7f007466d26",
   "metadata": {},
   "outputs": [],
   "source": [
    "# La página se ha caído, se descarga el dataset\n",
    "# url = \"https://archive.ics.uci.edu/ml/machine-learning-databases/breast-cancer-wisconsin/breast-cancer-wisconsin.data\""
   ]
  },
  {
   "cell_type": "code",
   "execution_count": 3,
   "id": "3965ccca-cbc1-466b-b114-f4a03d30c7a1",
   "metadata": {},
   "outputs": [],
   "source": [
    "data = pd.read_csv(\"breast-cancer-wisconsin.csv\")"
   ]
  },
  {
   "cell_type": "code",
   "execution_count": 4,
   "id": "ef489cde-588f-4d7a-bb05-490e43689cc0",
   "metadata": {},
   "outputs": [
    {
     "data": {
      "text/html": [
       "<div>\n",
       "<style scoped>\n",
       "    .dataframe tbody tr th:only-of-type {\n",
       "        vertical-align: middle;\n",
       "    }\n",
       "\n",
       "    .dataframe tbody tr th {\n",
       "        vertical-align: top;\n",
       "    }\n",
       "\n",
       "    .dataframe thead th {\n",
       "        text-align: right;\n",
       "    }\n",
       "</style>\n",
       "<table border=\"1\" class=\"dataframe\">\n",
       "  <thead>\n",
       "    <tr style=\"text-align: right;\">\n",
       "      <th></th>\n",
       "      <th>id</th>\n",
       "      <th>clump_thickness</th>\n",
       "      <th>size_uniformity</th>\n",
       "      <th>shape_uniformity</th>\n",
       "      <th>marginal_adhesion</th>\n",
       "      <th>epithelial_size</th>\n",
       "      <th>bare_nucleoli</th>\n",
       "      <th>bland_chromatin</th>\n",
       "      <th>normal_nucleoli</th>\n",
       "      <th>mitoses</th>\n",
       "      <th>class</th>\n",
       "    </tr>\n",
       "  </thead>\n",
       "  <tbody>\n",
       "    <tr>\n",
       "      <th>0</th>\n",
       "      <td>1000025</td>\n",
       "      <td>5</td>\n",
       "      <td>1</td>\n",
       "      <td>1</td>\n",
       "      <td>1</td>\n",
       "      <td>2</td>\n",
       "      <td>1</td>\n",
       "      <td>3</td>\n",
       "      <td>1</td>\n",
       "      <td>1</td>\n",
       "      <td>2</td>\n",
       "    </tr>\n",
       "    <tr>\n",
       "      <th>1</th>\n",
       "      <td>1002945</td>\n",
       "      <td>5</td>\n",
       "      <td>4</td>\n",
       "      <td>4</td>\n",
       "      <td>5</td>\n",
       "      <td>7</td>\n",
       "      <td>10</td>\n",
       "      <td>3</td>\n",
       "      <td>2</td>\n",
       "      <td>1</td>\n",
       "      <td>2</td>\n",
       "    </tr>\n",
       "    <tr>\n",
       "      <th>2</th>\n",
       "      <td>1015425</td>\n",
       "      <td>3</td>\n",
       "      <td>1</td>\n",
       "      <td>1</td>\n",
       "      <td>1</td>\n",
       "      <td>2</td>\n",
       "      <td>2</td>\n",
       "      <td>3</td>\n",
       "      <td>1</td>\n",
       "      <td>1</td>\n",
       "      <td>2</td>\n",
       "    </tr>\n",
       "    <tr>\n",
       "      <th>3</th>\n",
       "      <td>1016277</td>\n",
       "      <td>6</td>\n",
       "      <td>8</td>\n",
       "      <td>8</td>\n",
       "      <td>1</td>\n",
       "      <td>3</td>\n",
       "      <td>4</td>\n",
       "      <td>3</td>\n",
       "      <td>7</td>\n",
       "      <td>1</td>\n",
       "      <td>2</td>\n",
       "    </tr>\n",
       "    <tr>\n",
       "      <th>4</th>\n",
       "      <td>1017023</td>\n",
       "      <td>4</td>\n",
       "      <td>1</td>\n",
       "      <td>1</td>\n",
       "      <td>3</td>\n",
       "      <td>2</td>\n",
       "      <td>1</td>\n",
       "      <td>3</td>\n",
       "      <td>1</td>\n",
       "      <td>1</td>\n",
       "      <td>2</td>\n",
       "    </tr>\n",
       "  </tbody>\n",
       "</table>\n",
       "</div>"
      ],
      "text/plain": [
       "        id  clump_thickness  size_uniformity  shape_uniformity  \\\n",
       "0  1000025                5                1                 1   \n",
       "1  1002945                5                4                 4   \n",
       "2  1015425                3                1                 1   \n",
       "3  1016277                6                8                 8   \n",
       "4  1017023                4                1                 1   \n",
       "\n",
       "   marginal_adhesion  epithelial_size bare_nucleoli  bland_chromatin  \\\n",
       "0                  1                2             1                3   \n",
       "1                  5                7            10                3   \n",
       "2                  1                2             2                3   \n",
       "3                  1                3             4                3   \n",
       "4                  3                2             1                3   \n",
       "\n",
       "   normal_nucleoli  mitoses  class  \n",
       "0                1        1      2  \n",
       "1                2        1      2  \n",
       "2                1        1      2  \n",
       "3                7        1      2  \n",
       "4                1        1      2  "
      ]
     },
     "execution_count": 4,
     "metadata": {},
     "output_type": "execute_result"
    }
   ],
   "source": [
    "data.head(5)"
   ]
  },
  {
   "cell_type": "markdown",
   "id": "eda8b138-583c-4385-8baa-1ae05a3a7292",
   "metadata": {},
   "source": [
    "Se revisan valores faltantes"
   ]
  },
  {
   "cell_type": "code",
   "execution_count": 5,
   "id": "c079e498-a2d6-4112-813d-cd6534ce60f5",
   "metadata": {},
   "outputs": [
    {
     "name": "stdout",
     "output_type": "stream",
     "text": [
      "<class 'pandas.core.frame.DataFrame'>\n",
      "RangeIndex: 699 entries, 0 to 698\n",
      "Data columns (total 11 columns):\n",
      " #   Column             Non-Null Count  Dtype \n",
      "---  ------             --------------  ----- \n",
      " 0   id                 699 non-null    int64 \n",
      " 1   clump_thickness    699 non-null    int64 \n",
      " 2   size_uniformity    699 non-null    int64 \n",
      " 3   shape_uniformity   699 non-null    int64 \n",
      " 4   marginal_adhesion  699 non-null    int64 \n",
      " 5   epithelial_size    699 non-null    int64 \n",
      " 6   bare_nucleoli      699 non-null    object\n",
      " 7   bland_chromatin    699 non-null    int64 \n",
      " 8   normal_nucleoli    699 non-null    int64 \n",
      " 9   mitoses            699 non-null    int64 \n",
      " 10  class              699 non-null    int64 \n",
      "dtypes: int64(10), object(1)\n",
      "memory usage: 60.2+ KB\n"
     ]
    }
   ],
   "source": [
    "data.info()"
   ]
  },
  {
   "cell_type": "code",
   "execution_count": 6,
   "id": "505bde83-f39c-4294-894e-9be5c3a1f90b",
   "metadata": {},
   "outputs": [
    {
     "data": {
      "text/plain": [
       "id                   0\n",
       "clump_thickness      0\n",
       "size_uniformity      0\n",
       "shape_uniformity     0\n",
       "marginal_adhesion    0\n",
       "epithelial_size      0\n",
       "bare_nucleoli        0\n",
       "bland_chromatin      0\n",
       "normal_nucleoli      0\n",
       "mitoses              0\n",
       "class                0\n",
       "dtype: int64"
      ]
     },
     "execution_count": 6,
     "metadata": {},
     "output_type": "execute_result"
    }
   ],
   "source": [
    "data.isnull().sum()"
   ]
  },
  {
   "cell_type": "markdown",
   "id": "42c209dd-fac9-48a1-97aa-3d59548b8fb6",
   "metadata": {},
   "source": [
    "Se busca que tipo de valores pueden ser datos perdidos"
   ]
  },
  {
   "cell_type": "code",
   "execution_count": 7,
   "id": "123ccc60-71d3-4741-bbc6-833e2f4d2ca2",
   "metadata": {},
   "outputs": [
    {
     "data": {
      "text/plain": [
       "array(['1', '10', '2', '4', '3', '9', '7', '?', '5', '8', '6'],\n",
       "      dtype=object)"
      ]
     },
     "execution_count": 7,
     "metadata": {},
     "output_type": "execute_result"
    }
   ],
   "source": [
    "data['bare_nucleoli'].unique()"
   ]
  },
  {
   "cell_type": "markdown",
   "id": "ece2bb52-9cc7-4332-a697-b00c389f743c",
   "metadata": {},
   "source": [
    "Se observa un un valor perdido (?). Se determina la cantidad de datos perdidos"
   ]
  },
  {
   "cell_type": "code",
   "execution_count": 8,
   "id": "14d12087-7467-4d54-b122-d47cd30b86a1",
   "metadata": {},
   "outputs": [
    {
     "data": {
      "text/plain": [
       "16"
      ]
     },
     "execution_count": 8,
     "metadata": {},
     "output_type": "execute_result"
    }
   ],
   "source": [
    "(data['bare_nucleoli'] == '?').sum()"
   ]
  },
  {
   "cell_type": "markdown",
   "id": "e204772d-c6c5-408d-93f5-cf5392165f84",
   "metadata": {},
   "source": [
    "Para imputar el dato con la mediana, se requiere convertir la variable a numérica. Se reemplazan los valores \"?\" por NA"
   ]
  },
  {
   "cell_type": "code",
   "execution_count": 9,
   "id": "7d428735-2b0c-41d3-8d64-809a13df0b3f",
   "metadata": {},
   "outputs": [],
   "source": [
    "data['bare_nucleoli'] = data['bare_nucleoli'].replace(\"?\",pd.NA)"
   ]
  },
  {
   "cell_type": "code",
   "execution_count": 10,
   "id": "0569341e-dd29-418c-8682-96084ce188f8",
   "metadata": {},
   "outputs": [
    {
     "data": {
      "text/plain": [
       "id                    0\n",
       "clump_thickness       0\n",
       "size_uniformity       0\n",
       "shape_uniformity      0\n",
       "marginal_adhesion     0\n",
       "epithelial_size       0\n",
       "bare_nucleoli        16\n",
       "bland_chromatin       0\n",
       "normal_nucleoli       0\n",
       "mitoses               0\n",
       "class                 0\n",
       "dtype: int64"
      ]
     },
     "execution_count": 10,
     "metadata": {},
     "output_type": "execute_result"
    }
   ],
   "source": [
    "data.isnull().sum()"
   ]
  },
  {
   "cell_type": "code",
   "execution_count": 11,
   "id": "9e345656-a99d-45ea-a4d8-e17f5a1b22ea",
   "metadata": {},
   "outputs": [],
   "source": [
    "data['bare_nucleoli'] = pd.to_numeric(data['bare_nucleoli'])"
   ]
  },
  {
   "cell_type": "code",
   "execution_count": 12,
   "id": "9156d847-3b75-4eff-a0eb-2115f8019ec1",
   "metadata": {},
   "outputs": [
    {
     "data": {
      "text/plain": [
       "dtype('float64')"
      ]
     },
     "execution_count": 12,
     "metadata": {},
     "output_type": "execute_result"
    }
   ],
   "source": [
    "data['bare_nucleoli'].dtype"
   ]
  },
  {
   "cell_type": "markdown",
   "id": "df2291dd-8788-4893-8a9c-d98ed6505666",
   "metadata": {},
   "source": [
    "Se calcula la mediana y se reemplaza en los valores faltantes"
   ]
  },
  {
   "cell_type": "code",
   "execution_count": 13,
   "id": "f351c384-b515-4447-99e6-3583cb6377e9",
   "metadata": {},
   "outputs": [],
   "source": [
    "mediana = data['bare_nucleoli'].median()\n",
    "data['bare_nucleoli'] = data['bare_nucleoli'].fillna(mediana)"
   ]
  },
  {
   "cell_type": "code",
   "execution_count": 14,
   "id": "61511b12-aeb2-4201-bcf2-7fe9962c724b",
   "metadata": {},
   "outputs": [],
   "source": [
    "data['bare_nucleoli'] = data['bare_nucleoli'].astype(int)"
   ]
  },
  {
   "cell_type": "code",
   "execution_count": 15,
   "id": "5e499db5-4a16-4f3b-b86f-6ddd5627fade",
   "metadata": {},
   "outputs": [
    {
     "data": {
      "text/plain": [
       "array([ 1, 10,  2,  4,  3,  9,  7,  5,  8,  6])"
      ]
     },
     "execution_count": 15,
     "metadata": {},
     "output_type": "execute_result"
    }
   ],
   "source": [
    "data['bare_nucleoli'].unique()"
   ]
  },
  {
   "cell_type": "markdown",
   "id": "15f966d7-6814-48ad-aafd-aef13b72a48b",
   "metadata": {},
   "source": [
    "Se revisa la variable 'Class'"
   ]
  },
  {
   "cell_type": "code",
   "execution_count": 16,
   "id": "cb016961-3b7e-4deb-9aca-e1240f2d82b6",
   "metadata": {},
   "outputs": [
    {
     "data": {
      "text/plain": [
       "array([2, 4], dtype=int64)"
      ]
     },
     "execution_count": 16,
     "metadata": {},
     "output_type": "execute_result"
    }
   ],
   "source": [
    "data['class'].unique()"
   ]
  },
  {
   "cell_type": "markdown",
   "id": "157a9cd8-4b15-4b51-8a31-4300a7648c1b",
   "metadata": {},
   "source": [
    "Convertir los valores \"2\" y \"4\" a \"0\" y \"1\""
   ]
  },
  {
   "cell_type": "code",
   "execution_count": 17,
   "id": "3a922aed-2fa8-42a2-ac4f-74468313f760",
   "metadata": {},
   "outputs": [],
   "source": [
    "data['class'] = data['class'].apply(lambda x: 0 if x == 2 else 1)"
   ]
  },
  {
   "cell_type": "code",
   "execution_count": 18,
   "id": "f09f309d-7f0d-443e-a8a9-e951ee73c97c",
   "metadata": {},
   "outputs": [
    {
     "data": {
      "text/plain": [
       "array([0, 1], dtype=int64)"
      ]
     },
     "execution_count": 18,
     "metadata": {},
     "output_type": "execute_result"
    }
   ],
   "source": [
    "data['class'].unique()"
   ]
  },
  {
   "cell_type": "code",
   "execution_count": 19,
   "id": "280ff3b8-d12d-4437-b7f3-5513e6c08857",
   "metadata": {},
   "outputs": [],
   "source": [
    "data['class'] = data['class'].astype('category')"
   ]
  },
  {
   "cell_type": "code",
   "execution_count": 20,
   "id": "c5753d60-4e88-485e-a3a4-d26403ea20d7",
   "metadata": {},
   "outputs": [],
   "source": [
    "data['id'] = data['id'].astype(str)"
   ]
  },
  {
   "cell_type": "code",
   "execution_count": 21,
   "id": "637889a0-ae40-4856-b2c0-ca3d7b378082",
   "metadata": {},
   "outputs": [
    {
     "name": "stdout",
     "output_type": "stream",
     "text": [
      "<class 'pandas.core.frame.DataFrame'>\n",
      "RangeIndex: 699 entries, 0 to 698\n",
      "Data columns (total 11 columns):\n",
      " #   Column             Non-Null Count  Dtype   \n",
      "---  ------             --------------  -----   \n",
      " 0   id                 699 non-null    object  \n",
      " 1   clump_thickness    699 non-null    int64   \n",
      " 2   size_uniformity    699 non-null    int64   \n",
      " 3   shape_uniformity   699 non-null    int64   \n",
      " 4   marginal_adhesion  699 non-null    int64   \n",
      " 5   epithelial_size    699 non-null    int64   \n",
      " 6   bare_nucleoli      699 non-null    int32   \n",
      " 7   bland_chromatin    699 non-null    int64   \n",
      " 8   normal_nucleoli    699 non-null    int64   \n",
      " 9   mitoses            699 non-null    int64   \n",
      " 10  class              699 non-null    category\n",
      "dtypes: category(1), int32(1), int64(8), object(1)\n",
      "memory usage: 52.8+ KB\n"
     ]
    }
   ],
   "source": [
    "data.info()"
   ]
  },
  {
   "cell_type": "markdown",
   "id": "1444fe0c-5e1d-4bc1-815d-295b11357e6f",
   "metadata": {},
   "source": [
    "PARTE B"
   ]
  },
  {
   "cell_type": "markdown",
   "id": "b56cbc7a-17f9-4cae-b6ae-b8e0a382df29",
   "metadata": {},
   "source": [
    "- Detección valores atípicos univariados mediante rango intercuartil"
   ]
  },
  {
   "cell_type": "markdown",
   "id": "0b756257-a1ff-4e6b-baa5-4145050b4c25",
   "metadata": {},
   "source": [
    "Se define el rango intercuartil:\n",
    "\n",
    "Q1 = primer cuartil (25% de los datos por debajo)\n",
    "\n",
    "Q3 = tercer cuartil (75% de los datos por debajo)\n",
    "\n",
    "IQR = Q3 − Q1 (rango intercuartílico)\n",
    "\n",
    "Luego se definen los límites para detectar outliers:\n",
    "\n",
    "Límite inferior = Q1 − (k × IQR)\n",
    "\n",
    "Límite superior = Q3 + (k × IQR)\n",
    "\n",
    "Para este caso k=3"
   ]
  },
  {
   "cell_type": "markdown",
   "id": "ce2882d4-fe78-4913-997c-93bb131c2237",
   "metadata": {},
   "source": [
    "Se seleccionan solamente las variables numéricas"
   ]
  },
  {
   "cell_type": "code",
   "execution_count": 22,
   "id": "5f04c740-5f16-4e17-8b96-6755900b59c6",
   "metadata": {},
   "outputs": [],
   "source": [
    "var_numeric_ric = data.select_dtypes(include='number').copy()"
   ]
  },
  {
   "cell_type": "markdown",
   "id": "93153be7-055c-47fc-a0d7-bbdec2a8d1f2",
   "metadata": {},
   "source": [
    "Se revisan los estadísticos de las variables"
   ]
  },
  {
   "cell_type": "code",
   "execution_count": 23,
   "id": "6b75b3df-7aa4-40b1-a2af-953c7ec6d443",
   "metadata": {},
   "outputs": [
    {
     "data": {
      "text/html": [
       "<div>\n",
       "<style scoped>\n",
       "    .dataframe tbody tr th:only-of-type {\n",
       "        vertical-align: middle;\n",
       "    }\n",
       "\n",
       "    .dataframe tbody tr th {\n",
       "        vertical-align: top;\n",
       "    }\n",
       "\n",
       "    .dataframe thead th {\n",
       "        text-align: right;\n",
       "    }\n",
       "</style>\n",
       "<table border=\"1\" class=\"dataframe\">\n",
       "  <thead>\n",
       "    <tr style=\"text-align: right;\">\n",
       "      <th></th>\n",
       "      <th>clump_thickness</th>\n",
       "      <th>size_uniformity</th>\n",
       "      <th>shape_uniformity</th>\n",
       "      <th>marginal_adhesion</th>\n",
       "      <th>epithelial_size</th>\n",
       "      <th>bare_nucleoli</th>\n",
       "      <th>bland_chromatin</th>\n",
       "      <th>normal_nucleoli</th>\n",
       "      <th>mitoses</th>\n",
       "    </tr>\n",
       "  </thead>\n",
       "  <tbody>\n",
       "    <tr>\n",
       "      <th>count</th>\n",
       "      <td>699.000000</td>\n",
       "      <td>699.000000</td>\n",
       "      <td>699.000000</td>\n",
       "      <td>699.000000</td>\n",
       "      <td>699.000000</td>\n",
       "      <td>699.000000</td>\n",
       "      <td>699.000000</td>\n",
       "      <td>699.000000</td>\n",
       "      <td>699.000000</td>\n",
       "    </tr>\n",
       "    <tr>\n",
       "      <th>mean</th>\n",
       "      <td>4.417740</td>\n",
       "      <td>3.134478</td>\n",
       "      <td>3.207439</td>\n",
       "      <td>2.806867</td>\n",
       "      <td>3.216023</td>\n",
       "      <td>3.486409</td>\n",
       "      <td>3.437768</td>\n",
       "      <td>2.866953</td>\n",
       "      <td>1.589413</td>\n",
       "    </tr>\n",
       "    <tr>\n",
       "      <th>std</th>\n",
       "      <td>2.815741</td>\n",
       "      <td>3.051459</td>\n",
       "      <td>2.971913</td>\n",
       "      <td>2.855379</td>\n",
       "      <td>2.214300</td>\n",
       "      <td>3.621929</td>\n",
       "      <td>2.438364</td>\n",
       "      <td>3.053634</td>\n",
       "      <td>1.715078</td>\n",
       "    </tr>\n",
       "    <tr>\n",
       "      <th>min</th>\n",
       "      <td>1.000000</td>\n",
       "      <td>1.000000</td>\n",
       "      <td>1.000000</td>\n",
       "      <td>1.000000</td>\n",
       "      <td>1.000000</td>\n",
       "      <td>1.000000</td>\n",
       "      <td>1.000000</td>\n",
       "      <td>1.000000</td>\n",
       "      <td>1.000000</td>\n",
       "    </tr>\n",
       "    <tr>\n",
       "      <th>25%</th>\n",
       "      <td>2.000000</td>\n",
       "      <td>1.000000</td>\n",
       "      <td>1.000000</td>\n",
       "      <td>1.000000</td>\n",
       "      <td>2.000000</td>\n",
       "      <td>1.000000</td>\n",
       "      <td>2.000000</td>\n",
       "      <td>1.000000</td>\n",
       "      <td>1.000000</td>\n",
       "    </tr>\n",
       "    <tr>\n",
       "      <th>50%</th>\n",
       "      <td>4.000000</td>\n",
       "      <td>1.000000</td>\n",
       "      <td>1.000000</td>\n",
       "      <td>1.000000</td>\n",
       "      <td>2.000000</td>\n",
       "      <td>1.000000</td>\n",
       "      <td>3.000000</td>\n",
       "      <td>1.000000</td>\n",
       "      <td>1.000000</td>\n",
       "    </tr>\n",
       "    <tr>\n",
       "      <th>75%</th>\n",
       "      <td>6.000000</td>\n",
       "      <td>5.000000</td>\n",
       "      <td>5.000000</td>\n",
       "      <td>4.000000</td>\n",
       "      <td>4.000000</td>\n",
       "      <td>5.000000</td>\n",
       "      <td>5.000000</td>\n",
       "      <td>4.000000</td>\n",
       "      <td>1.000000</td>\n",
       "    </tr>\n",
       "    <tr>\n",
       "      <th>max</th>\n",
       "      <td>10.000000</td>\n",
       "      <td>10.000000</td>\n",
       "      <td>10.000000</td>\n",
       "      <td>10.000000</td>\n",
       "      <td>10.000000</td>\n",
       "      <td>10.000000</td>\n",
       "      <td>10.000000</td>\n",
       "      <td>10.000000</td>\n",
       "      <td>10.000000</td>\n",
       "    </tr>\n",
       "  </tbody>\n",
       "</table>\n",
       "</div>"
      ],
      "text/plain": [
       "       clump_thickness  size_uniformity  shape_uniformity  marginal_adhesion  \\\n",
       "count       699.000000       699.000000        699.000000         699.000000   \n",
       "mean          4.417740         3.134478          3.207439           2.806867   \n",
       "std           2.815741         3.051459          2.971913           2.855379   \n",
       "min           1.000000         1.000000          1.000000           1.000000   \n",
       "25%           2.000000         1.000000          1.000000           1.000000   \n",
       "50%           4.000000         1.000000          1.000000           1.000000   \n",
       "75%           6.000000         5.000000          5.000000           4.000000   \n",
       "max          10.000000        10.000000         10.000000          10.000000   \n",
       "\n",
       "       epithelial_size  bare_nucleoli  bland_chromatin  normal_nucleoli  \\\n",
       "count       699.000000     699.000000       699.000000       699.000000   \n",
       "mean          3.216023       3.486409         3.437768         2.866953   \n",
       "std           2.214300       3.621929         2.438364         3.053634   \n",
       "min           1.000000       1.000000         1.000000         1.000000   \n",
       "25%           2.000000       1.000000         2.000000         1.000000   \n",
       "50%           2.000000       1.000000         3.000000         1.000000   \n",
       "75%           4.000000       5.000000         5.000000         4.000000   \n",
       "max          10.000000      10.000000        10.000000        10.000000   \n",
       "\n",
       "          mitoses  \n",
       "count  699.000000  \n",
       "mean     1.589413  \n",
       "std      1.715078  \n",
       "min      1.000000  \n",
       "25%      1.000000  \n",
       "50%      1.000000  \n",
       "75%      1.000000  \n",
       "max     10.000000  "
      ]
     },
     "execution_count": 23,
     "metadata": {},
     "output_type": "execute_result"
    }
   ],
   "source": [
    "var_numeric_ric.describe()"
   ]
  },
  {
   "cell_type": "markdown",
   "id": "8d761222-f824-415d-ac34-a8446d464ad7",
   "metadata": {},
   "source": [
    "Se observa una distribución atípica en la variable mitoses"
   ]
  },
  {
   "cell_type": "markdown",
   "id": "4dba718f-eb83-4789-8a5a-fe59cd3db549",
   "metadata": {},
   "source": [
    "Se recorren las columnas para determinar los rangos intercuartiles, detectar los outliers y reemplazar por valores nulos"
   ]
  },
  {
   "cell_type": "code",
   "execution_count": 24,
   "id": "d6b946a2-1e43-46ee-a464-e204f0d4df35",
   "metadata": {},
   "outputs": [],
   "source": [
    "for col in var_numeric_ric:\n",
    "    Q1 = var_numeric_ric[col].quantile(0.25)\n",
    "    Q3 = var_numeric_ric[col].quantile(0.75)\n",
    "    \n",
    "    IQR = Q3-Q1\n",
    "    k = 3\n",
    "    \n",
    "    lim_inf = Q1 - k*IQR\n",
    "    lim_sup = Q3 + k*IQR\n",
    "    \n",
    "    # Se crea una máscara booleanda para detectar outliers\n",
    "    mask_outliers = (var_numeric_ric[col] < lim_inf) | (var_numeric_ric[col] > lim_sup)\n",
    "\n",
    "    # Se reemplazan los outliers (valores True) por Na\n",
    "    var_numeric_ric.loc[mask_outliers, col] = np.nan"
   ]
  },
  {
   "cell_type": "markdown",
   "id": "24283317-1ff1-4cf0-b278-52d21768a127",
   "metadata": {},
   "source": [
    "Se contabilizan los outliers"
   ]
  },
  {
   "cell_type": "code",
   "execution_count": 25,
   "id": "ae2893bd-e5da-4a4d-957f-d94d8c803044",
   "metadata": {},
   "outputs": [
    {
     "data": {
      "text/plain": [
       "clump_thickness        0\n",
       "size_uniformity        0\n",
       "shape_uniformity       0\n",
       "marginal_adhesion      0\n",
       "epithelial_size        0\n",
       "bare_nucleoli          0\n",
       "bland_chromatin        0\n",
       "normal_nucleoli        0\n",
       "mitoses              120\n",
       "dtype: int64"
      ]
     },
     "execution_count": 25,
     "metadata": {},
     "output_type": "execute_result"
    }
   ],
   "source": [
    "var_numeric_ric.isna().sum()"
   ]
  },
  {
   "cell_type": "markdown",
   "id": "a6958216-15c3-4d83-a739-973e09d55e58",
   "metadata": {},
   "source": [
    "Se observa que el 17% de los valores de la variable 'mitoses' son atípicos. Podría considerarse eliminar la variable"
   ]
  },
  {
   "cell_type": "markdown",
   "id": "6c69668f-e399-4b09-a7eb-7614d31c2ac9",
   "metadata": {},
   "source": [
    "- Detección de valores atípicos multivariados mediante Mahalanobis"
   ]
  },
  {
   "cell_type": "code",
   "execution_count": 26,
   "id": "b5cc67f5-0e1a-41d1-b21f-88126f96f487",
   "metadata": {},
   "outputs": [],
   "source": [
    "from scipy.spatial.distance import mahalanobis"
   ]
  },
  {
   "cell_type": "markdown",
   "id": "18a88909-4ffd-45de-8369-0233f56b4d3d",
   "metadata": {},
   "source": [
    "Los valores del dataframe se trabajan como array para una mayor eficiencia"
   ]
  },
  {
   "cell_type": "code",
   "execution_count": 27,
   "id": "e83e855d-971a-4d08-83f0-07f6d19c19a1",
   "metadata": {},
   "outputs": [],
   "source": [
    "var_numeric_maha = data.select_dtypes(include='number').copy()"
   ]
  },
  {
   "cell_type": "code",
   "execution_count": 28,
   "id": "b1765bcf-3b95-4277-9da0-5883d21f6158",
   "metadata": {},
   "outputs": [],
   "source": [
    "X = var_numeric_maha.values"
   ]
  },
  {
   "cell_type": "markdown",
   "id": "ed38ba0b-3294-4ef2-bdd9-07e38db93fe5",
   "metadata": {},
   "source": [
    "Se calcula la media multivariada"
   ]
  },
  {
   "cell_type": "code",
   "execution_count": 34,
   "id": "9c901909-e058-4d55-90a8-6788a2addda7",
   "metadata": {},
   "outputs": [],
   "source": [
    "mean_vec = np.mean(X, axis = 0)"
   ]
  },
  {
   "cell_type": "code",
   "execution_count": 35,
   "id": "be175844-c737-4228-97b9-8de4746f82c0",
   "metadata": {},
   "outputs": [
    {
     "data": {
      "text/plain": [
       "array([4.41773963, 3.13447783, 3.2074392 , 2.80686695, 3.21602289,\n",
       "       3.48640916, 3.43776824, 2.86695279, 1.58941345])"
      ]
     },
     "execution_count": 35,
     "metadata": {},
     "output_type": "execute_result"
    }
   ],
   "source": [
    "mean_vec"
   ]
  },
  {
   "cell_type": "markdown",
   "id": "5a507793-b39d-4ebd-9bd1-1b179087cc2c",
   "metadata": {},
   "source": [
    "Se calcula la matriz de covarianza inversa"
   ]
  },
  {
   "cell_type": "code",
   "execution_count": 32,
   "id": "e8a5c84f-01b3-419f-8781-abcb9ede2a05",
   "metadata": {},
   "outputs": [],
   "source": [
    "cov_matrix = np.cov(X, rowvar=False)\n",
    "inv_cov_matrix = np.linalg.inv(cov_matrix)"
   ]
  },
  {
   "cell_type": "code",
   "execution_count": 33,
   "id": "10671eb2-8c99-4417-945a-d890d294c26c",
   "metadata": {},
   "outputs": [
    {
     "data": {
      "text/plain": [
       "array([[ 0.24136756, -0.04326361, -0.05779416,  0.01987167, -0.00115685,\n",
       "        -0.04445912, -0.01626922, -0.01403337, -0.0217344 ],\n",
       "       [-0.04326361,  0.77231609, -0.47065263, -0.06917098, -0.15416152,\n",
       "         0.01257058, -0.11311914, -0.03938676, -0.02772149],\n",
       "       [-0.05779416, -0.47065263,  0.73564684, -0.00851994, -0.04052871,\n",
       "        -0.06486148, -0.03090451, -0.06220755, -0.00172577],\n",
       "       [ 0.01987167, -0.06917098, -0.00851994,  0.3016256 , -0.02057304,\n",
       "        -0.06644805, -0.06712287, -0.0222236 , -0.04764495],\n",
       "       [-0.00115685, -0.15416152, -0.04052871, -0.02057304,  0.51906263,\n",
       "        -0.01885214, -0.01533556, -0.04030569, -0.09759057],\n",
       "       [-0.04445912,  0.01257058, -0.06486148, -0.06644805, -0.01885214,\n",
       "         0.19344258, -0.06082612,  0.00229545,  0.01062166],\n",
       "       [-0.01626922, -0.11311914, -0.03090451, -0.06712287, -0.01533556,\n",
       "        -0.06082612,  0.48270562, -0.06897697,  0.04171983],\n",
       "       [-0.01403337, -0.03938676, -0.06220755, -0.0222236 , -0.04030569,\n",
       "         0.00229545, -0.06897697,  0.26174566, -0.03962129],\n",
       "       [-0.0217344 , -0.02772149, -0.00172577, -0.04764495, -0.09759057,\n",
       "         0.01062166,  0.04171983, -0.03962129,  0.47200513]])"
      ]
     },
     "execution_count": 33,
     "metadata": {},
     "output_type": "execute_result"
    }
   ],
   "source": [
    "inv_cov_matrix"
   ]
  },
  {
   "cell_type": "markdown",
   "id": "ae683fef-197e-4585-8947-25851b664eeb",
   "metadata": {},
   "source": [
    "Cacular la distancia de Mahalanobis para cada fila"
   ]
  },
  {
   "cell_type": "code",
   "execution_count": 37,
   "id": "90294125-f5b9-4f7f-ad26-d0f94f3cad17",
   "metadata": {},
   "outputs": [],
   "source": [
    "mahal_dist = [mahalanobis(row, mean, inv_cov_matrix) for row in X]"
   ]
  },
  {
   "cell_type": "markdown",
   "id": "f05058a1-396a-4a73-bae6-d514800f89f7",
   "metadata": {},
   "source": [
    "Se agregar la lista al dataframe"
   ]
  },
  {
   "cell_type": "code",
   "execution_count": 68,
   "id": "c3b9cfe8-b623-481e-bb34-61e562b89b89",
   "metadata": {},
   "outputs": [],
   "source": [
    "var_numeric_maha['mahal_dist'] = mahal_dist"
   ]
  },
  {
   "cell_type": "code",
   "execution_count": 69,
   "id": "bb3de64c-5741-49db-92cb-71ef033e25f7",
   "metadata": {},
   "outputs": [
    {
     "data": {
      "text/html": [
       "<div>\n",
       "<style scoped>\n",
       "    .dataframe tbody tr th:only-of-type {\n",
       "        vertical-align: middle;\n",
       "    }\n",
       "\n",
       "    .dataframe tbody tr th {\n",
       "        vertical-align: top;\n",
       "    }\n",
       "\n",
       "    .dataframe thead th {\n",
       "        text-align: right;\n",
       "    }\n",
       "</style>\n",
       "<table border=\"1\" class=\"dataframe\">\n",
       "  <thead>\n",
       "    <tr style=\"text-align: right;\">\n",
       "      <th></th>\n",
       "      <th>clump_thickness</th>\n",
       "      <th>size_uniformity</th>\n",
       "      <th>shape_uniformity</th>\n",
       "      <th>marginal_adhesion</th>\n",
       "      <th>epithelial_size</th>\n",
       "      <th>bare_nucleoli</th>\n",
       "      <th>bland_chromatin</th>\n",
       "      <th>normal_nucleoli</th>\n",
       "      <th>mitoses</th>\n",
       "      <th>mahal_dist</th>\n",
       "    </tr>\n",
       "  </thead>\n",
       "  <tbody>\n",
       "    <tr>\n",
       "      <th>0</th>\n",
       "      <td>5</td>\n",
       "      <td>1</td>\n",
       "      <td>1</td>\n",
       "      <td>1</td>\n",
       "      <td>2</td>\n",
       "      <td>1</td>\n",
       "      <td>3</td>\n",
       "      <td>1</td>\n",
       "      <td>1</td>\n",
       "      <td>1.462433</td>\n",
       "    </tr>\n",
       "    <tr>\n",
       "      <th>1</th>\n",
       "      <td>5</td>\n",
       "      <td>4</td>\n",
       "      <td>4</td>\n",
       "      <td>5</td>\n",
       "      <td>7</td>\n",
       "      <td>10</td>\n",
       "      <td>3</td>\n",
       "      <td>2</td>\n",
       "      <td>1</td>\n",
       "      <td>3.736788</td>\n",
       "    </tr>\n",
       "    <tr>\n",
       "      <th>2</th>\n",
       "      <td>3</td>\n",
       "      <td>1</td>\n",
       "      <td>1</td>\n",
       "      <td>1</td>\n",
       "      <td>2</td>\n",
       "      <td>2</td>\n",
       "      <td>3</td>\n",
       "      <td>1</td>\n",
       "      <td>1</td>\n",
       "      <td>1.040197</td>\n",
       "    </tr>\n",
       "    <tr>\n",
       "      <th>3</th>\n",
       "      <td>6</td>\n",
       "      <td>8</td>\n",
       "      <td>8</td>\n",
       "      <td>1</td>\n",
       "      <td>3</td>\n",
       "      <td>4</td>\n",
       "      <td>3</td>\n",
       "      <td>7</td>\n",
       "      <td>1</td>\n",
       "      <td>4.098292</td>\n",
       "    </tr>\n",
       "    <tr>\n",
       "      <th>4</th>\n",
       "      <td>4</td>\n",
       "      <td>1</td>\n",
       "      <td>1</td>\n",
       "      <td>3</td>\n",
       "      <td>2</td>\n",
       "      <td>1</td>\n",
       "      <td>3</td>\n",
       "      <td>1</td>\n",
       "      <td>1</td>\n",
       "      <td>1.493547</td>\n",
       "    </tr>\n",
       "  </tbody>\n",
       "</table>\n",
       "</div>"
      ],
      "text/plain": [
       "   clump_thickness  size_uniformity  shape_uniformity  marginal_adhesion  \\\n",
       "0                5                1                 1                  1   \n",
       "1                5                4                 4                  5   \n",
       "2                3                1                 1                  1   \n",
       "3                6                8                 8                  1   \n",
       "4                4                1                 1                  3   \n",
       "\n",
       "   epithelial_size  bare_nucleoli  bland_chromatin  normal_nucleoli  mitoses  \\\n",
       "0                2              1                3                1        1   \n",
       "1                7             10                3                2        1   \n",
       "2                2              2                3                1        1   \n",
       "3                3              4                3                7        1   \n",
       "4                2              1                3                1        1   \n",
       "\n",
       "   mahal_dist  \n",
       "0    1.462433  \n",
       "1    3.736788  \n",
       "2    1.040197  \n",
       "3    4.098292  \n",
       "4    1.493547  "
      ]
     },
     "execution_count": 69,
     "metadata": {},
     "output_type": "execute_result"
    }
   ],
   "source": [
    "var_numeric_maha.head()"
   ]
  },
  {
   "cell_type": "markdown",
   "id": "13cc25e1-e0f4-4e4b-9892-7cbb98b5fb51",
   "metadata": {},
   "source": [
    "Se eliminan aquellas filas cuyo valor sea mayor a 30"
   ]
  },
  {
   "cell_type": "code",
   "execution_count": 70,
   "id": "967d3420-336a-4bd3-80f4-ac68e14de125",
   "metadata": {},
   "outputs": [],
   "source": [
    "var_numeric_filt = var_numeric_maha[var_numeric_maha['mahal_dist']<=30]"
   ]
  },
  {
   "cell_type": "code",
   "execution_count": 71,
   "id": "201e6347-2afa-4970-9ca2-cc1c0ccde203",
   "metadata": {},
   "outputs": [
    {
     "data": {
      "text/plain": [
       "(699, 10)"
      ]
     },
     "execution_count": 71,
     "metadata": {},
     "output_type": "execute_result"
    }
   ],
   "source": [
    "var_numeric_filt.shape"
   ]
  },
  {
   "cell_type": "markdown",
   "id": "35712dce-5d78-4ac6-9c1d-9c5e538d8898",
   "metadata": {},
   "source": [
    "Se ha mantenido el tamaño del dataframe, por lo que no se han detectado valores atípicos multivariados"
   ]
  },
  {
   "cell_type": "markdown",
   "id": "3cf01715-71dd-4144-9c7d-533c7d449c4f",
   "metadata": {},
   "source": [
    "PARTE C"
   ]
  },
  {
   "cell_type": "markdown",
   "id": "1f0813b8-e1b7-4faf-9fa5-f2e4f626759e",
   "metadata": {},
   "source": [
    "Consideranvo la variable clase como la variable independiente, y el resto de variables numéricas como las predictoras, se aplica la transformación\n",
    "sobre los conjuntos de datos"
   ]
  },
  {
   "cell_type": "markdown",
   "id": "bc9d8262-711c-467d-b68a-2216dee7cd69",
   "metadata": {},
   "source": [
    "- Transformación Z-score"
   ]
  },
  {
   "cell_type": "code",
   "execution_count": 72,
   "id": "b2005b67-b614-4d78-851a-2933b183740f",
   "metadata": {},
   "outputs": [],
   "source": [
    "var_numeric = data.select_dtypes(include = 'number')"
   ]
  },
  {
   "cell_type": "code",
   "execution_count": 73,
   "id": "027295b9-c2e7-48e5-ac9f-12ca5175c001",
   "metadata": {},
   "outputs": [],
   "source": [
    "var_numeric_z = (var_numeric - var_numeric.mean()) / var_numeric.std()"
   ]
  },
  {
   "cell_type": "code",
   "execution_count": 74,
   "id": "c845b425-8b7f-4ac5-ae32-1779540f060a",
   "metadata": {},
   "outputs": [
    {
     "data": {
      "text/html": [
       "<div>\n",
       "<style scoped>\n",
       "    .dataframe tbody tr th:only-of-type {\n",
       "        vertical-align: middle;\n",
       "    }\n",
       "\n",
       "    .dataframe tbody tr th {\n",
       "        vertical-align: top;\n",
       "    }\n",
       "\n",
       "    .dataframe thead th {\n",
       "        text-align: right;\n",
       "    }\n",
       "</style>\n",
       "<table border=\"1\" class=\"dataframe\">\n",
       "  <thead>\n",
       "    <tr style=\"text-align: right;\">\n",
       "      <th></th>\n",
       "      <th>clump_thickness</th>\n",
       "      <th>size_uniformity</th>\n",
       "      <th>shape_uniformity</th>\n",
       "      <th>marginal_adhesion</th>\n",
       "      <th>epithelial_size</th>\n",
       "      <th>bare_nucleoli</th>\n",
       "      <th>bland_chromatin</th>\n",
       "      <th>normal_nucleoli</th>\n",
       "      <th>mitoses</th>\n",
       "    </tr>\n",
       "  </thead>\n",
       "  <tbody>\n",
       "    <tr>\n",
       "      <th>0</th>\n",
       "      <td>0.206788</td>\n",
       "      <td>-0.699494</td>\n",
       "      <td>-0.742767</td>\n",
       "      <td>-0.632794</td>\n",
       "      <td>-0.549168</td>\n",
       "      <td>-0.686488</td>\n",
       "      <td>-0.179534</td>\n",
       "      <td>-0.611387</td>\n",
       "      <td>-0.343666</td>\n",
       "    </tr>\n",
       "    <tr>\n",
       "      <th>1</th>\n",
       "      <td>0.206788</td>\n",
       "      <td>0.283642</td>\n",
       "      <td>0.266684</td>\n",
       "      <td>0.768071</td>\n",
       "      <td>1.708882</td>\n",
       "      <td>1.798376</td>\n",
       "      <td>-0.179534</td>\n",
       "      <td>-0.283909</td>\n",
       "      <td>-0.343666</td>\n",
       "    </tr>\n",
       "    <tr>\n",
       "      <th>2</th>\n",
       "      <td>-0.503505</td>\n",
       "      <td>-0.699494</td>\n",
       "      <td>-0.742767</td>\n",
       "      <td>-0.632794</td>\n",
       "      <td>-0.549168</td>\n",
       "      <td>-0.410392</td>\n",
       "      <td>-0.179534</td>\n",
       "      <td>-0.611387</td>\n",
       "      <td>-0.343666</td>\n",
       "    </tr>\n",
       "    <tr>\n",
       "      <th>3</th>\n",
       "      <td>0.561934</td>\n",
       "      <td>1.594490</td>\n",
       "      <td>1.612618</td>\n",
       "      <td>-0.632794</td>\n",
       "      <td>-0.097558</td>\n",
       "      <td>0.141800</td>\n",
       "      <td>-0.179534</td>\n",
       "      <td>1.353485</td>\n",
       "      <td>-0.343666</td>\n",
       "    </tr>\n",
       "    <tr>\n",
       "      <th>4</th>\n",
       "      <td>-0.148359</td>\n",
       "      <td>-0.699494</td>\n",
       "      <td>-0.742767</td>\n",
       "      <td>0.067638</td>\n",
       "      <td>-0.549168</td>\n",
       "      <td>-0.686488</td>\n",
       "      <td>-0.179534</td>\n",
       "      <td>-0.611387</td>\n",
       "      <td>-0.343666</td>\n",
       "    </tr>\n",
       "  </tbody>\n",
       "</table>\n",
       "</div>"
      ],
      "text/plain": [
       "   clump_thickness  size_uniformity  shape_uniformity  marginal_adhesion  \\\n",
       "0         0.206788        -0.699494         -0.742767          -0.632794   \n",
       "1         0.206788         0.283642          0.266684           0.768071   \n",
       "2        -0.503505        -0.699494         -0.742767          -0.632794   \n",
       "3         0.561934         1.594490          1.612618          -0.632794   \n",
       "4        -0.148359        -0.699494         -0.742767           0.067638   \n",
       "\n",
       "   epithelial_size  bare_nucleoli  bland_chromatin  normal_nucleoli   mitoses  \n",
       "0        -0.549168      -0.686488        -0.179534        -0.611387 -0.343666  \n",
       "1         1.708882       1.798376        -0.179534        -0.283909 -0.343666  \n",
       "2        -0.549168      -0.410392        -0.179534        -0.611387 -0.343666  \n",
       "3        -0.097558       0.141800        -0.179534         1.353485 -0.343666  \n",
       "4        -0.549168      -0.686488        -0.179534        -0.611387 -0.343666  "
      ]
     },
     "execution_count": 74,
     "metadata": {},
     "output_type": "execute_result"
    }
   ],
   "source": [
    "var_numeric_z.head()"
   ]
  },
  {
   "cell_type": "markdown",
   "id": "d953c378-291c-44eb-83b2-205189c7545c",
   "metadata": {},
   "source": [
    "- Transformación de normalización Min - Max"
   ]
  },
  {
   "cell_type": "code",
   "execution_count": 76,
   "id": "0e97a619-3827-4961-970e-3a8cdbbd2047",
   "metadata": {},
   "outputs": [],
   "source": [
    "var_numeric_min_max = (var_numeric - var_numeric.mean())/(var_numeric.max()-var_numeric.min())"
   ]
  },
  {
   "cell_type": "code",
   "execution_count": 77,
   "id": "406a21dd-1037-4525-ba24-0a52b817e9e2",
   "metadata": {},
   "outputs": [
    {
     "data": {
      "text/html": [
       "<div>\n",
       "<style scoped>\n",
       "    .dataframe tbody tr th:only-of-type {\n",
       "        vertical-align: middle;\n",
       "    }\n",
       "\n",
       "    .dataframe tbody tr th {\n",
       "        vertical-align: top;\n",
       "    }\n",
       "\n",
       "    .dataframe thead th {\n",
       "        text-align: right;\n",
       "    }\n",
       "</style>\n",
       "<table border=\"1\" class=\"dataframe\">\n",
       "  <thead>\n",
       "    <tr style=\"text-align: right;\">\n",
       "      <th></th>\n",
       "      <th>clump_thickness</th>\n",
       "      <th>size_uniformity</th>\n",
       "      <th>shape_uniformity</th>\n",
       "      <th>marginal_adhesion</th>\n",
       "      <th>epithelial_size</th>\n",
       "      <th>bare_nucleoli</th>\n",
       "      <th>bland_chromatin</th>\n",
       "      <th>normal_nucleoli</th>\n",
       "      <th>mitoses</th>\n",
       "    </tr>\n",
       "  </thead>\n",
       "  <tbody>\n",
       "    <tr>\n",
       "      <th>0</th>\n",
       "      <td>0.064696</td>\n",
       "      <td>-0.237164</td>\n",
       "      <td>-0.245271</td>\n",
       "      <td>-0.200763</td>\n",
       "      <td>-0.135114</td>\n",
       "      <td>-0.276268</td>\n",
       "      <td>-0.048641</td>\n",
       "      <td>-0.207439</td>\n",
       "      <td>-0.06549</td>\n",
       "    </tr>\n",
       "    <tr>\n",
       "      <th>1</th>\n",
       "      <td>0.064696</td>\n",
       "      <td>0.096169</td>\n",
       "      <td>0.088062</td>\n",
       "      <td>0.243681</td>\n",
       "      <td>0.420442</td>\n",
       "      <td>0.723732</td>\n",
       "      <td>-0.048641</td>\n",
       "      <td>-0.096328</td>\n",
       "      <td>-0.06549</td>\n",
       "    </tr>\n",
       "    <tr>\n",
       "      <th>2</th>\n",
       "      <td>-0.157527</td>\n",
       "      <td>-0.237164</td>\n",
       "      <td>-0.245271</td>\n",
       "      <td>-0.200763</td>\n",
       "      <td>-0.135114</td>\n",
       "      <td>-0.165157</td>\n",
       "      <td>-0.048641</td>\n",
       "      <td>-0.207439</td>\n",
       "      <td>-0.06549</td>\n",
       "    </tr>\n",
       "    <tr>\n",
       "      <th>3</th>\n",
       "      <td>0.175807</td>\n",
       "      <td>0.540614</td>\n",
       "      <td>0.532507</td>\n",
       "      <td>-0.200763</td>\n",
       "      <td>-0.024003</td>\n",
       "      <td>0.057066</td>\n",
       "      <td>-0.048641</td>\n",
       "      <td>0.459227</td>\n",
       "      <td>-0.06549</td>\n",
       "    </tr>\n",
       "    <tr>\n",
       "      <th>4</th>\n",
       "      <td>-0.046416</td>\n",
       "      <td>-0.237164</td>\n",
       "      <td>-0.245271</td>\n",
       "      <td>0.021459</td>\n",
       "      <td>-0.135114</td>\n",
       "      <td>-0.276268</td>\n",
       "      <td>-0.048641</td>\n",
       "      <td>-0.207439</td>\n",
       "      <td>-0.06549</td>\n",
       "    </tr>\n",
       "  </tbody>\n",
       "</table>\n",
       "</div>"
      ],
      "text/plain": [
       "   clump_thickness  size_uniformity  shape_uniformity  marginal_adhesion  \\\n",
       "0         0.064696        -0.237164         -0.245271          -0.200763   \n",
       "1         0.064696         0.096169          0.088062           0.243681   \n",
       "2        -0.157527        -0.237164         -0.245271          -0.200763   \n",
       "3         0.175807         0.540614          0.532507          -0.200763   \n",
       "4        -0.046416        -0.237164         -0.245271           0.021459   \n",
       "\n",
       "   epithelial_size  bare_nucleoli  bland_chromatin  normal_nucleoli  mitoses  \n",
       "0        -0.135114      -0.276268        -0.048641        -0.207439 -0.06549  \n",
       "1         0.420442       0.723732        -0.048641        -0.096328 -0.06549  \n",
       "2        -0.135114      -0.165157        -0.048641        -0.207439 -0.06549  \n",
       "3        -0.024003       0.057066        -0.048641         0.459227 -0.06549  \n",
       "4        -0.135114      -0.276268        -0.048641        -0.207439 -0.06549  "
      ]
     },
     "execution_count": 77,
     "metadata": {},
     "output_type": "execute_result"
    }
   ],
   "source": [
    "var_numeric_min_max.head()"
   ]
  },
  {
   "cell_type": "code",
   "execution_count": null,
   "id": "8c594478-0af2-49fe-a090-9d491964d2d9",
   "metadata": {},
   "outputs": [],
   "source": []
  }
 ],
 "metadata": {
  "kernelspec": {
   "display_name": "Python 3 (ipykernel)",
   "language": "python",
   "name": "python3"
  },
  "language_info": {
   "codemirror_mode": {
    "name": "ipython",
    "version": 3
   },
   "file_extension": ".py",
   "mimetype": "text/x-python",
   "name": "python",
   "nbconvert_exporter": "python",
   "pygments_lexer": "ipython3",
   "version": "3.11.7"
  }
 },
 "nbformat": 4,
 "nbformat_minor": 5
}
